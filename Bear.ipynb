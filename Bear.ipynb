{
 "cells": [
  {
   "cell_type": "markdown",
   "id": "331030a4",
   "metadata": {},
   "source": [
    "## Bear Classifier GUI - Voila\n"
   ]
  },
  {
   "cell_type": "code",
   "execution_count": 41,
   "id": "5c22aa23",
   "metadata": {
    "execution": {
     "iopub.execute_input": "2022-04-09T03:05:59.602091Z",
     "iopub.status.busy": "2022-04-09T03:05:59.601146Z",
     "iopub.status.idle": "2022-04-09T03:05:59.607187Z",
     "shell.execute_reply": "2022-04-09T03:05:59.606255Z",
     "shell.execute_reply.started": "2022-04-09T03:05:59.602039Z"
    }
   },
   "outputs": [],
   "source": [
    "# Initialise the python and fastai code\n",
    "#!pip install -Uqq fastbook\n",
    "#import fastbook\n",
    "#fastbook.setup_book()\n",
    "\n",
    "#from fastbook import *\n",
    "from fastai.vision.all import *\n",
    "from fastai.vision.widgets import *"
   ]
  },
  {
   "cell_type": "code",
   "execution_count": 42,
   "id": "368a7151",
   "metadata": {
    "execution": {
     "iopub.execute_input": "2022-04-09T03:08:35.885488Z",
     "iopub.status.busy": "2022-04-09T03:08:35.885181Z",
     "iopub.status.idle": "2022-04-09T03:08:35.891225Z",
     "shell.execute_reply": "2022-04-09T03:08:35.889738Z",
     "shell.execute_reply.started": "2022-04-09T03:08:35.885460Z"
    }
   },
   "outputs": [],
   "source": [
    "##### Code that does the predictions\n",
    "\n",
    "# Setup variables\n",
    "path = Path()"
   ]
  },
  {
   "cell_type": "code",
   "execution_count": 43,
   "id": "b51606ee",
   "metadata": {
    "execution": {
     "iopub.execute_input": "2022-04-09T03:08:38.268519Z",
     "iopub.status.busy": "2022-04-09T03:08:38.268214Z",
     "iopub.status.idle": "2022-04-09T03:08:38.382095Z",
     "shell.execute_reply": "2022-04-09T03:08:38.381255Z",
     "shell.execute_reply.started": "2022-04-09T03:08:38.268492Z"
    }
   },
   "outputs": [],
   "source": [
    "# Load an inference learner we created earlier\n",
    "learn_inf = load_learner(path/'exportBear.pkl')"
   ]
  },
  {
   "cell_type": "code",
   "execution_count": 44,
   "id": "fa940c18",
   "metadata": {
    "execution": {
     "iopub.execute_input": "2022-04-09T03:08:54.658333Z",
     "iopub.status.busy": "2022-04-09T03:08:54.658016Z",
     "iopub.status.idle": "2022-04-09T03:08:54.669110Z",
     "shell.execute_reply": "2022-04-09T03:08:54.668031Z",
     "shell.execute_reply.started": "2022-04-09T03:08:54.658306Z"
    }
   },
   "outputs": [],
   "source": [
    "# File upload widget\n",
    "btn_upload = widgets.FileUpload()\n",
    "\n",
    "#btn_upload #show button!"
   ]
  },
  {
   "cell_type": "code",
   "execution_count": 45,
   "id": "dbf938c7",
   "metadata": {
    "execution": {
     "iopub.execute_input": "2022-04-09T03:09:22.213802Z",
     "iopub.status.busy": "2022-04-09T03:09:22.213492Z",
     "iopub.status.idle": "2022-04-09T03:09:22.222863Z",
     "shell.execute_reply": "2022-04-09T03:09:22.221965Z",
     "shell.execute_reply.started": "2022-04-09T03:09:22.213773Z"
    }
   },
   "outputs": [],
   "source": [
    "# Use the Output widget to display the image\n",
    "out_pl = widgets.Output()\n",
    "#out_pl.clear_output()\n",
    "#with out_pl: display(img.to_thumb(128,128))\n",
    "#out_pl "
   ]
  },
  {
   "cell_type": "code",
   "execution_count": 46,
   "id": "7b81280a-6518-4f00-b39d-0e6c40ad951d",
   "metadata": {
    "execution": {
     "iopub.execute_input": "2022-04-09T03:12:35.794212Z",
     "iopub.status.busy": "2022-04-09T03:12:35.793278Z",
     "iopub.status.idle": "2022-04-09T03:12:35.804862Z",
     "shell.execute_reply": "2022-04-09T03:12:35.804040Z",
     "shell.execute_reply.started": "2022-04-09T03:12:35.794169Z"
    }
   },
   "outputs": [],
   "source": [
    "lbl_pred = widgets.Label()"
   ]
  },
  {
   "cell_type": "code",
   "execution_count": 47,
   "id": "1fcafd7c",
   "metadata": {
    "execution": {
     "iopub.execute_input": "2022-04-09T03:13:36.464195Z",
     "iopub.status.busy": "2022-04-09T03:13:36.463290Z",
     "iopub.status.idle": "2022-04-09T03:13:36.469338Z",
     "shell.execute_reply": "2022-04-09T03:13:36.468519Z",
     "shell.execute_reply.started": "2022-04-09T03:13:36.464149Z"
    }
   },
   "outputs": [],
   "source": [
    "# Create a clieck event handler - function tat is called when the button Classify is pressed.\n",
    "def on_click_classify(change):\n",
    "    lbl_pred.value = ''\n",
    "    img = PILImage.create(btn_upload.data[-1])\n",
    "    out_pl.clear_output()\n",
    "    with out_pl: display(img.to_thumb(128,128))\n",
    "    pred, pred_idx, probs = learn_inf.predict(img)\n",
    "    lbl_pred.value = f'Predition: {pred}; Probability: {probs[pred_idx]: .04f}'\n",
    "\n",
    "#btn_run.on_click(on_click_classify)"
   ]
  },
  {
   "cell_type": "code",
   "execution_count": 48,
   "id": "dfcbb031-efbd-4dcb-baf4-2c6536f45fce",
   "metadata": {
    "execution": {
     "iopub.execute_input": "2022-04-09T03:14:09.663642Z",
     "iopub.status.busy": "2022-04-09T03:14:09.663365Z",
     "iopub.status.idle": "2022-04-09T03:14:09.668195Z",
     "shell.execute_reply": "2022-04-09T03:14:09.667295Z",
     "shell.execute_reply.started": "2022-04-09T03:14:09.663615Z"
    }
   },
   "outputs": [],
   "source": [
    "btn_upload.observe(on_click_classify, names=['data'])"
   ]
  },
  {
   "cell_type": "code",
   "execution_count": 49,
   "id": "14eb97be",
   "metadata": {
    "execution": {
     "iopub.execute_input": "2022-04-09T03:15:39.444684Z",
     "iopub.status.busy": "2022-04-09T03:15:39.444416Z",
     "iopub.status.idle": "2022-04-09T03:15:39.466742Z",
     "shell.execute_reply": "2022-04-09T03:15:39.465991Z",
     "shell.execute_reply.started": "2022-04-09T03:15:39.444657Z"
    }
   },
   "outputs": [
    {
     "data": {
      "application/vnd.jupyter.widget-view+json": {
       "model_id": "b709ad677b8a4edc9763925d00445ce7",
       "version_major": 2,
       "version_minor": 0
      },
      "text/plain": [
       "VBox(children=(Label(value='Select your bear!'), FileUpload(value={}, description='Upload'), Output(), Label(v…"
      ]
     },
     "metadata": {},
     "output_type": "display_data"
    },
    {
     "data": {
      "text/html": [],
      "text/plain": [
       "<IPython.core.display.HTML object>"
      ]
     },
     "metadata": {},
     "output_type": "display_data"
    },
    {
     "data": {
      "text/html": [],
      "text/plain": [
       "<IPython.core.display.HTML object>"
      ]
     },
     "metadata": {},
     "output_type": "display_data"
    },
    {
     "data": {
      "text/html": [],
      "text/plain": [
       "<IPython.core.display.HTML object>"
      ]
     },
     "metadata": {},
     "output_type": "display_data"
    }
   ],
   "source": [
    "display(VBox([widgets.Label('Select your bear!'), btn_upload, out_pl, lbl_pred]))"
   ]
  }
 ],
 "metadata": {
  "kernelspec": {
   "display_name": "Python 3 (ipykernel)",
   "language": "python",
   "name": "python3"
  },
  "language_info": {
   "codemirror_mode": {
    "name": "ipython",
    "version": 3
   },
   "file_extension": ".py",
   "mimetype": "text/x-python",
   "name": "python",
   "nbconvert_exporter": "python",
   "pygments_lexer": "ipython3",
   "version": "3.7.11"
  }
 },
 "nbformat": 4,
 "nbformat_minor": 5
}
